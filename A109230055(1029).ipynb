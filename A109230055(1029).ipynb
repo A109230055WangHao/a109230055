{
 "cells": [
  {
   "cell_type": "code",
   "execution_count": 1,
   "metadata": {},
   "outputs": [
    {
     "name": "stdout",
     "output_type": "stream",
     "text": [
      "Height=23.5\n",
      "Weight=19\n",
      "perimeter= 85.0\n"
     ]
    }
   ],
   "source": [
    "# 3-29 1.\n",
    "Height=eval(input('Height='))\n",
    "Weight=eval(input('Weight='))\n",
    "perimeter=2*(Height+Weight)\n",
    "print('perimeter=',perimeter)"
   ]
  },
  {
   "cell_type": "code",
   "execution_count": 2,
   "metadata": {},
   "outputs": [
    {
     "name": "stdout",
     "output_type": "stream",
     "text": [
      "Height=23.5\n",
      "Weight=19\n",
      "Area= 446.5\n"
     ]
    }
   ],
   "source": [
    "# 3-29 1.\n",
    "Height=eval(input('Height='))\n",
    "Weight=eval(input('Weight='))\n",
    "Area=(Height*Weight)\n",
    "print('Area=',Area)"
   ]
  },
  {
   "cell_type": "code",
   "execution_count": 3,
   "metadata": {},
   "outputs": [
    {
     "name": "stdout",
     "output_type": "stream",
     "text": [
      "s=10\n",
      "Height= 8.66\n",
      "Area= 43.3\n"
     ]
    }
   ],
   "source": [
    "# 3-29 2.\n",
    "s=eval(input('s='))\n",
    "Height=1.732/2*s\n",
    "Area=1.732/4*s**2\n",
    "print('Height=',Height)\n",
    "print('Area=',Area)"
   ]
  },
  {
   "cell_type": "code",
   "execution_count": 4,
   "metadata": {},
   "outputs": [
    {
     "name": "stdout",
     "output_type": "stream",
     "text": [
      "s=10\n",
      "Height= 8.66\n",
      "Height= %.2f 8.660254037844386\n"
     ]
    }
   ],
   "source": [
    "# 3-29 2.\n",
    "import math\n",
    "s=eval(input('s='))\n",
    "Height=((math.sqrt(3)/2)*s)\n",
    "print('Height= %.2f' % (Height))\n",
    "print('Height= %.2f', Height)\n",
    "Area=((math.sqrt(3)/4)*s*s)"
   ]
  },
  {
   "cell_type": "code",
   "execution_count": 5,
   "metadata": {},
   "outputs": [
    {
     "name": "stdout",
     "output_type": "stream",
     "text": [
      "speed= 10.8\n"
     ]
    }
   ],
   "source": [
    "# 3-29 3.\n",
    "#x=min,y=sec,z=km\n",
    "x=10\n",
    "y=25\n",
    "z=3\n",
    "h=x/60+y/3600\n",
    "d=3*5/8\n",
    "speed=d/h\n",
    "print('speed=',speed)"
   ]
  },
  {
   "cell_type": "code",
   "execution_count": 6,
   "metadata": {},
   "outputs": [
    {
     "name": "stdout",
     "output_type": "stream",
     "text": [
      "x=10\n",
      "y=25\n",
      "z=3\n",
      "speed= 10.8\n"
     ]
    }
   ],
   "source": [
    "# 3-29 3.\n",
    "# x=min,y=sec,z=km\n",
    "x=eval(input('x='))\n",
    "y=eval(input('y='))\n",
    "z=eval(input('z='))\n",
    "h=x/60+y/3600\n",
    "d=z*5/8\n",
    "speed=d/h\n",
    "print('speed=',speed)"
   ]
  },
  {
   "cell_type": "code",
   "execution_count": 7,
   "metadata": {},
   "outputs": [
    {
     "name": "stdout",
     "output_type": "stream",
     "text": [
      "m=20\n",
      "k= 32.0\n"
     ]
    }
   ],
   "source": [
    "# 3-30 4.\n",
    "# purpose mile=m, km=k\n",
    "m=eval(input('m='))\n",
    "k=m*1.6\n",
    "print('k=',k)"
   ]
  },
  {
   "cell_type": "code",
   "execution_count": 8,
   "metadata": {},
   "outputs": [
    {
     "name": "stdout",
     "output_type": "stream",
     "text": [
      "f=100\n",
      "c= 37.77777777777778\n"
     ]
    }
   ],
   "source": [
    "# convert fahrenheit to celsius\n",
    "# purpose fahrenheit=f ,celsius=c\n",
    "f=eval(input('f='))\n",
    "c=(f-32)*5/9\n",
    "print('c=',c)"
   ]
  },
  {
   "cell_type": "code",
   "execution_count": 10,
   "metadata": {},
   "outputs": [],
   "source": [
    "import os"
   ]
  },
  {
   "cell_type": "code",
   "execution_count": 11,
   "metadata": {},
   "outputs": [
    {
     "data": {
      "text/plain": [
       "'C:\\\\Users\\\\A109230055\\\\Documents'"
      ]
     },
     "execution_count": 11,
     "metadata": {},
     "output_type": "execute_result"
    }
   ],
   "source": [
    "os.getcwd()"
   ]
  },
  {
   "cell_type": "code",
   "execution_count": null,
   "metadata": {},
   "outputs": [],
   "source": []
  }
 ],
 "metadata": {
  "kernelspec": {
   "display_name": "Python 3",
   "language": "python",
   "name": "python3"
  },
  "language_info": {
   "codemirror_mode": {
    "name": "ipython",
    "version": 3
   },
   "file_extension": ".py",
   "mimetype": "text/x-python",
   "name": "python",
   "nbconvert_exporter": "python",
   "pygments_lexer": "ipython3",
   "version": "3.7.3"
  }
 },
 "nbformat": 4,
 "nbformat_minor": 2
}
